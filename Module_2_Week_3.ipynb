{
  "nbformat": 4,
  "nbformat_minor": 0,
  "metadata": {
    "colab": {
      "provenance": [],
      "toc_visible": true,
      "authorship_tag": "ABX9TyNHtXUNtztymVlpxde1DDA3",
      "include_colab_link": true
    },
    "kernelspec": {
      "name": "python3",
      "display_name": "Python 3"
    },
    "language_info": {
      "name": "python"
    }
  },
  "cells": [
    {
      "cell_type": "markdown",
      "metadata": {
        "id": "view-in-github",
        "colab_type": "text"
      },
      "source": [
        "<a href=\"https://colab.research.google.com/github/minhvu0510/AIO-Exercise/blob/develop/Module_2_Week_3.ipynb\" target=\"_parent\"><img src=\"https://colab.research.google.com/assets/colab-badge.svg\" alt=\"Open In Colab\"/></a>"
      ]
    },
    {
      "cell_type": "markdown",
      "source": [
        "4.1 Hoàn thiện function create_train_dataset() để tổ chức dữ liệu bảng 1 vào array 2 chiều như\n",
        "bên dưới."
      ],
      "metadata": {
        "id": "uRESOMe4joH4"
      }
    },
    {
      "cell_type": "code",
      "source": [
        "import numpy as np\n",
        "\n",
        "def create_train_data():\n",
        "    data = [\n",
        "        ['Sunny', 'Hot', 'High', 'Weak', 'no'],\n",
        "        ['Sunny', 'Hot', 'High', 'Strong', 'no'],\n",
        "        ['Overcast', 'Hot', 'High', 'Weak', 'yes'],\n",
        "        ['Rain', 'Mild', 'High', 'Weak', 'yes'],\n",
        "        ['Rain', 'Cool', 'Normal', 'Weak', 'yes'],\n",
        "        ['Rain', 'Cool', 'Normal', 'Strong', 'no'],\n",
        "        ['Overcast', 'Cool', 'Normal', 'Strong', 'yes'],\n",
        "        ['Overcast', 'Mild', 'High', 'Weak', 'no'],\n",
        "        ['Sunny', 'Cool', 'Normal', 'Weak', 'yes'],\n",
        "        ['Rain', 'Mild', 'Normal', 'Weak', 'yes']\n",
        "    ]\n",
        "\n",
        "    return np.array(data)\n",
        "\n",
        "train_data = create_train_data()\n",
        "print(train_data)"
      ],
      "metadata": {
        "id": "v60ZmRx5jpSB"
      },
      "execution_count": null,
      "outputs": []
    },
    {
      "cell_type": "code",
      "source": [
        "***************** Sample Result when we print out train_data *****************\n",
        "[['Sunny' 'Hot' 'High' 'Weak' 'no']\n",
        " ['Sunny' 'Hot' 'High' 'Strong' 'no']\n",
        " ['Overcast' 'Hot' 'High' 'Weak' 'yes']\n",
        " ['Rain' 'Mild' 'High' 'Weak' 'yes']\n",
        " ['Rain' 'Cool' 'Normal' 'Weak' 'yes']\n",
        " ['Rain' 'Cool' 'Normal' 'Strong' 'no']\n",
        " ['Overcast' 'Cool' 'Normal' 'Strong' 'yes']\n",
        " ['Overcast' 'Mild' 'High' 'Weak' 'no']\n",
        " ['Sunny' 'Cool' 'Normal' 'Weak' 'yes']\n",
        " ['Rain' 'Mild' 'Normal' 'Weak' 'yes']]"
      ],
      "metadata": {
        "id": "B4MLa70EjzTO"
      },
      "execution_count": null,
      "outputs": []
    },
    {
      "cell_type": "markdown",
      "source": [
        "4.2 Hoàn thiện function compute_prior_probability tính P(\"Play Tennis\" = \"Yes\") and tính\n",
        "P(\"Play Tennis\" = \"No\") như bên dưới:"
      ],
      "metadata": {
        "id": "-p9y4hwij79t"
      }
    },
    {
      "cell_type": "code",
      "source": [
        "import numpy as np\n",
        "\n",
        "def compute_prior_probablity(train_data):\n",
        "    y_unique = ['no', 'yes']\n",
        "    prior_probability = np.zeros(len(y_unique))\n",
        "\n",
        "    # Đếm số lần xuất hiện của mỗi lớp\n",
        "    total_samples = train_data.shape[0]\n",
        "    count_no = np.sum(train_data[:, -1] == 'no')\n",
        "    count_yes = np.sum(train_data[:, -1] == 'yes')\n",
        "\n",
        "    # Tính xác suất tiên nghiệm\n",
        "    prior_probability[0] = count_no / total_samples\n",
        "    prior_probability[1] = count_yes / total_samples\n",
        "\n",
        "    return prior_probability\n",
        "\n",
        "# Tạo dữ liệu huấn luyện\n",
        "train_data = create_train_data()\n",
        "\n",
        "# Tính xác suất tiên nghiệm\n",
        "prior_probability = compute_prior_probablity(train_data)\n",
        "print(\"P(play tennis = No)\", prior_probability[0])\n",
        "print(\"P(play tennis = Yes)\", prior_probability[1])\n",
        "\n",
        "# Result\n",
        "P(play tennis = No) 0.4\n",
        "P(play tennis = Yes) 0.6"
      ],
      "metadata": {
        "id": "mix0CUfej8Yr"
      },
      "execution_count": null,
      "outputs": []
    },
    {
      "cell_type": "markdown",
      "source": [
        "4.3 Hoàn thiện function compute_conditional_probability để tính likelihood (The probability\n",
        "of \"A\" being True. Given \"B\" True, P(A|B)) như bên dưới:"
      ],
      "metadata": {
        "id": "pu1hEoZIkVTf"
      }
    },
    {
      "cell_type": "code",
      "source": [
        "import numpy as np\n",
        "\n",
        "def compute_conditional_probability(train_data):\n",
        "    y_unique = ['no', 'yes']\n",
        "    conditional_probability = []\n",
        "    list_x_name = []\n",
        "\n",
        "    for i in range(0, train_data.shape[1] - 1):\n",
        "        x_unique = np.unique(train_data[:, i])\n",
        "        list_x_name.append(x_unique)\n",
        "\n",
        "        x_conditional_probability = {}\n",
        "        for x_val in x_unique:\n",
        "            x_conditional_probability[x_val] = {}\n",
        "            for y_val in y_unique:\n",
        "                # Đếm số lần xuất hiện của x_val khi y_val xảy ra\n",
        "                count_xy = np.sum((train_data[:, i] == x_val) & (train_data[:, -1] == y_val))\n",
        "                count_y = np.sum(train_data[:, -1] == y_val)\n",
        "                x_conditional_probability[x_val][y_val] = count_xy / count_y if count_y != 0 else 0\n",
        "\n",
        "        conditional_probability.append(x_conditional_probability)\n",
        "\n",
        "    return conditional_probability, list_x_name"
      ],
      "metadata": {
        "id": "7oCYdstvkVkw"
      },
      "execution_count": null,
      "outputs": []
    },
    {
      "cell_type": "markdown",
      "source": [
        "4.4 Hoàn thiện function get_index_from_value để tính trả về index tương ứng với feature name:"
      ],
      "metadata": {
        "id": "D1MTU2wylBCD"
      }
    },
    {
      "cell_type": "code",
      "source": [
        "import numpy as np\n",
        "\n",
        "# This function is used to return the index of the feature name\n",
        "def get_index_from_value(feature_name, list_features):\n",
        "    return np.where(list_features == feature_name)[0][0]\n",
        "\n",
        "# Ví dụ minh họa\n",
        "list_features = np.array(['Overcast', 'Rain', 'Sunny'])\n",
        "feature_name = 'Rain'\n",
        "\n",
        "index = get_index_from_value(feature_name, list_features)\n",
        "print(\"Index of feature:\", index)\n",
        "\n",
        "# Result\n",
        "Index of feature: 1"
      ],
      "metadata": {
        "colab": {
          "base_uri": "https://localhost:8080/"
        },
        "id": "bD7tjt1tlBSL",
        "outputId": "5fb4e8b6-88a2-4da4-b687-e7beedf979ac"
      },
      "execution_count": 1,
      "outputs": [
        {
          "output_type": "stream",
          "name": "stdout",
          "text": [
            "Index of feature: 1\n"
          ]
        }
      ]
    },
    {
      "cell_type": "markdown",
      "source": [
        "4.5 Hoàn thiện function train_naive_bayes như bên dưới:"
      ],
      "metadata": {
        "id": "UNjyLf8JmhyK"
      }
    },
    {
      "cell_type": "code",
      "source": [
        "import numpy as np\n",
        "\n",
        "def create_train_data():\n",
        "    data = [\n",
        "        ['Sunny', 'Hot', 'High', 'Weak', 'no'],\n",
        "        ['Sunny', 'Hot', 'High', 'Strong', 'no'],\n",
        "        ['Overcast', 'Hot', 'High', 'Weak', 'yes'],\n",
        "        ['Rain', 'Mild', 'High', 'Weak', 'yes'],\n",
        "        ['Rain', 'Cool', 'Normal', 'Weak', 'yes'],\n",
        "        ['Rain', 'Cool', 'Normal', 'Strong', 'no'],\n",
        "        ['Overcast', 'Cool', 'Normal', 'Strong', 'yes'],\n",
        "        ['Overcast', 'Mild', 'High', 'Weak', 'no'],\n",
        "        ['Sunny', 'Cool', 'Normal', 'Weak', 'yes'],\n",
        "        ['Rain', 'Mild', 'Normal', 'Weak', 'yes']\n",
        "    ]\n",
        "    return np.array(data)\n",
        "\n",
        "def compute_prior_probablity(train_data):\n",
        "    y_unique = ['no', 'yes']\n",
        "    prior_probability = np.zeros(len(y_unique))\n",
        "\n",
        "    total_samples = train_data.shape[0]\n",
        "    count_no = np.sum(train_data[:, -1] == 'no')\n",
        "    count_yes = np.sum(train_data[:, -1] == 'yes')\n",
        "\n",
        "    prior_probability[0] = count_no / total_samples\n",
        "    prior_probability[1] = count_yes / total_samples\n",
        "\n",
        "    return prior_probability\n",
        "\n",
        "def compute_conditional_probability(train_data):\n",
        "    y_unique = ['no', 'yes']\n",
        "    conditional_probability = []\n",
        "    list_x_name = []\n",
        "\n",
        "    for i in range(0, train_data.shape[1] - 1):\n",
        "        x_unique = np.unique(train_data[:, i])\n",
        "        list_x_name.append(x_unique)\n",
        "\n",
        "        x_conditional_probability = {}\n",
        "        for x_val in x_unique:\n",
        "            x_conditional_probability[x_val] = {}\n",
        "            for y_val in y_unique:\n",
        "                count_xy = np.sum((train_data[:, i] == x_val) & (train_data[:, -1] == y_val))\n",
        "                count_y = np.sum(train_data[:, -1] == y_val)\n",
        "                x_conditional_probability[x_val][y_val] = count_xy / count_y if count_y != 0 else 0\n",
        "\n",
        "        conditional_probability.append(x_conditional_probability)\n",
        "\n",
        "    return conditional_probability, list_x_name\n",
        "\n",
        "# Train Naive Bayes Model\n",
        "def train_naive_bayes(train_data):\n",
        "    # Step 1: Calculate Prior Probability\n",
        "    prior_probability = compute_prior_probablity(train_data)\n",
        "\n",
        "    # Step 2: Calculate Conditional Probability\n",
        "    conditional_probability, list_x_name = compute_conditional_probability(train_data)\n",
        "\n",
        "    return prior_probability, conditional_probability, list_x_name\n",
        "\n",
        "# Create training data\n",
        "train_data = create_train_data()\n",
        "\n",
        "# Train Naive Bayes model\n",
        "prior_probability, conditional_probability, list_x_name = train_naive_bayes(train_data)\n",
        "print(\"Prior Probabilities:\", prior_probability)\n",
        "print(\"Conditional Probabilities:\", conditional_probability)\n",
        "print(\"Unique Values per Feature:\", list_x_name)"
      ],
      "metadata": {
        "id": "p8dUBCszmiGV"
      },
      "execution_count": null,
      "outputs": []
    },
    {
      "cell_type": "markdown",
      "source": [
        "4.6 Hoàn thiện function prediction_play_tennis để hỗ trợ AD có nên đi chơi tennis vào ngày\n",
        "D11 không:"
      ],
      "metadata": {
        "id": "2KnwiUZUnOtA"
      }
    },
    {
      "cell_type": "code",
      "source": [
        "import numpy as np\n",
        "\n",
        "# Function to get the index of a feature value in the list of feature values\n",
        "def get_index_from_value(feature_name, list_features):\n",
        "    return np.where(list_features == feature_name)[0][0]\n",
        "\n",
        "# Prediction function\n",
        "def prediction_play_tennis(X, list_x_name, prior_probability, conditional_probability):\n",
        "    # Get the indices of the feature values\n",
        "    x1 = get_index_from_value(X[0], list_x_name[0])\n",
        "    x2 = get_index_from_value(X[1], list_x_name[1])\n",
        "    x3 = get_index_from_value(X[2], list_x_name[2])\n",
        "    x4 = get_index_from_value(X[3], list_x_name[3])\n",
        "\n",
        "    # Initialize probabilities\n",
        "    p0 = prior_probability[0]\n",
        "    p1 = prior_probability[1]\n",
        "\n",
        "    # Update probabilities with conditional probabilities\n",
        "    p0 *= conditional_probability[0][X[0]]['no']\n",
        "    p0 *= conditional_probability[1][X[1]]['no']\n",
        "    p0 *= conditional_probability[2][X[2]]['no']\n",
        "    p0 *= conditional_probability[3][X[3]]['no']\n",
        "\n",
        "    p1 *= conditional_probability[0][X[0]]['yes']\n",
        "    p1 *= conditional_probability[1][X[1]]['yes']\n",
        "    p1 *= conditional_probability[2][X[2]]['yes']\n",
        "    p1 *= conditional_probability[3][X[3]]['yes']\n",
        "\n",
        "    # Determine the prediction\n",
        "    if p0 > p1:\n",
        "        y_pred = 'no'\n",
        "    else:\n",
        "        y_pred = 'yes'\n",
        "\n",
        "    return y_pred\n",
        "\n",
        "# Create training data\n",
        "train_data = create_train_data()\n",
        "\n",
        "# Train Naive Bayes model\n",
        "prior_probability, conditional_probability, list_x_name = train_naive_bayes(train_data)\n",
        "\n",
        "# Testing data for D11\n",
        "X_test = ['Sunny', 'Cool', 'High', 'Strong']\n",
        "\n",
        "# Prediction\n",
        "prediction = prediction_play_tennis(X_test, list_x_name, prior_probability, conditional_probability)\n",
        "print(\"Prediction for D11 (Play Tennis):\", prediction)"
      ],
      "metadata": {
        "id": "Uzm3xnGbnO93"
      },
      "execution_count": null,
      "outputs": []
    }
  ]
}