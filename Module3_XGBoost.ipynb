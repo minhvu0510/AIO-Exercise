{
  "nbformat": 4,
  "nbformat_minor": 0,
  "metadata": {
    "colab": {
      "provenance": [],
      "toc_visible": true,
      "authorship_tag": "ABX9TyO5sAO5FEUDCM3X9XUlswlY",
      "include_colab_link": true
    },
    "kernelspec": {
      "name": "python3",
      "display_name": "Python 3"
    },
    "language_info": {
      "name": "python"
    }
  },
  "cells": [
    {
      "cell_type": "markdown",
      "metadata": {
        "id": "view-in-github",
        "colab_type": "text"
      },
      "source": [
        "<a href=\"https://colab.research.google.com/github/minhvu0510/AIO-Exercise/blob/main/Module3_XGBoost.ipynb\" target=\"_parent\"><img src=\"https://colab.research.google.com/assets/colab-badge.svg\" alt=\"Open In Colab\"/></a>"
      ]
    },
    {
      "cell_type": "markdown",
      "source": [
        "1.\n",
        "(a) Build tree với điều kiện sau λ = 0, depth = 1, lr = 0.3"
      ],
      "metadata": {
        "id": "5wRmFkMqzcX0"
      }
    },
    {
      "cell_type": "code",
      "execution_count": null,
      "metadata": {
        "id": "miyjs5BPzRiM"
      },
      "outputs": [],
      "source": [
        "import numpy as np\n",
        "\n",
        "X = np.array([23, 24, 26, 27])\n",
        "Y = np.array([50, 70, 80, 85])\n",
        "\n",
        "y_pred_initial = np.mean(Y)\n",
        "print(f\"Giá trị dự đoán ban đầu: {y_pred_initial}\")\n",
        "\n",
        "residuals = Y - y_pred_initial\n",
        "print(f\"Phần dư: {residuals}\")\n",
        "\n",
        "left_indices = X <= 24\n",
        "right_indices = X > 24\n",
        "\n",
        "r_left = np.mean(residuals[left_indices])\n",
        "r_right = np.mean(residuals[right_indices])\n",
        "print(f\"Trung bình phần dư nhóm 1: {r_left}\")\n",
        "print(f\"Trung bình phần dư nhóm 2: {r_right}\")\n",
        "\n",
        "lr = 0.3\n",
        "leaf_1_value = lr * r_left\n",
        "leaf_2_value = lr * r_right\n",
        "print(f\"Giá trị cập nhật nhóm 1 (lá trái): {leaf_1_value}\")\n",
        "print(f\"Giá trị cập nhật nhóm 2 (lá phải): {leaf_2_value}\")\n",
        "\n",
        "y_pred = np.where(X <= 24, y_pred_initial + leaf_1_value, y_pred_initial + leaf_2_value)\n",
        "print(f\"Giá trị dự đoán mới: {y_pred}\")"
      ]
    },
    {
      "cell_type": "markdown",
      "source": [
        "(b) Step1: Khởi tạo giá trị f0 dự đoán của model bằng cách lấy trung bình của Y"
      ],
      "metadata": {
        "id": "h25OTQXj0pJ1"
      }
    },
    {
      "cell_type": "code",
      "source": [
        "import numpy as np\n",
        "\n",
        "Y = np.array([50, 70, 80, 85])\n",
        "\n",
        "f0 = np.mean(Y)\n",
        "print(f\"Giá trị dự đoán ban đầu f0: {f0}\")"
      ],
      "metadata": {
        "id": "uhUdlNKl0qse"
      },
      "execution_count": null,
      "outputs": []
    },
    {
      "cell_type": "markdown",
      "source": [
        "(c) Step2: Tính toán Similarity Score của root"
      ],
      "metadata": {
        "id": "LBaTrgya0up7"
      }
    },
    {
      "cell_type": "code",
      "source": [
        "import numpy as np\n",
        "\n",
        "Y = np.array([50, 70, 80, 85])\n",
        "f0 = np.mean(Y)\n",
        "\n",
        "lambda_ = 0\n",
        "\n",
        "residuals = Y - f0\n",
        "\n",
        "sum_of_residuals = np.sum(residuals)\n",
        "\n",
        "number_of_residuals = len(Y)\n",
        "\n",
        "similarity_score = (sum_of_residuals ** 2) / (number_of_residuals + lambda_)\n",
        "\n",
        "print(f\"Similarity Score của root: {similarity_score}\")"
      ],
      "metadata": {
        "id": "XfnoaTJp0xbe"
      },
      "execution_count": null,
      "outputs": []
    },
    {
      "cell_type": "markdown",
      "source": [
        "(d) Step3: Chọn root theo từng yêu cầu sau và tính Similarity Score cho các node trong nhánh trái và nhánh phải\n",
        "i. X < 23.5\n",
        "ii. X < 25\n",
        "iii. X < 26.5"
      ],
      "metadata": {
        "id": "BNBeUEQm1cw5"
      }
    },
    {
      "cell_type": "code",
      "source": [
        "def calculate_similarity_score(residuals, lambda_):\n",
        "    sum_of_residuals = np.sum(residuals)\n",
        "    number_of_residuals = len(residuals)\n",
        "    similarity_score = (sum_of_residuals ** 2) / (number_of_residuals + lambda_)\n",
        "    return similarity_score\n",
        "\n",
        "def split_and_calculate(X, residuals, threshold):\n",
        "    left_indices = X < threshold\n",
        "    right_indices = X >= threshold\n",
        "\n",
        "    residuals_left = residuals[left_indices]\n",
        "    residuals_right = residuals[right_indices]\n",
        "\n",
        "    similarity_left = calculate_similarity_score(residuals_left, lambda_)\n",
        "    similarity_right = calculate_similarity_score(residuals_right, lambda_)\n",
        "\n",
        "    return similarity_left, similarity_right\n",
        "\n",
        "# Điều kiện 1: X < 23.5\n",
        "similarity_left_23_5, similarity_right_23_5 = split_and_calculate(X, residuals, 23.5)\n",
        "print(f\"X < 23.5: Similarity Score nhánh trái = {similarity_left_23_5}, nhánh phải = {similarity_right_23_5}\")\n",
        "\n",
        "# Điều kiện 2: X < 25\n",
        "similarity_left_25, similarity_right_25 = split_and_calculate(X, residuals, 25)\n",
        "print(f\"X < 25: Similarity Score nhánh trái = {similarity_left_25}, nhánh phải = {similarity_right_25}\")\n",
        "\n",
        "# Điều kiện 3: X < 26.5\n",
        "similarity_left_26_5, similarity_right_26_5 = split_and_calculate(X, residuals, 26.5)\n",
        "print(f\"X < 26.5: Similarity Score nhánh trái = {similarity_left_26_5}, nhánh phải = {similarity_right_26_5}\")"
      ],
      "metadata": {
        "id": "A5yDmfdz1jos"
      },
      "execution_count": null,
      "outputs": []
    },
    {
      "cell_type": "markdown",
      "source": [
        "(e) Step4: Tính Gain cho từng case i, ii, iii ở trên và chọn ra Gain có giá trị lớn nhất\n",
        "• Gain = Left Similarity Score + Right Similarity Score - Root Similarity Score"
      ],
      "metadata": {
        "id": "L8HVN3Dr1xBY"
      }
    },
    {
      "cell_type": "code",
      "source": [
        "def calculate_similarity_score(residuals, lambda_):\n",
        "    sum_of_residuals = np.sum(residuals)\n",
        "    number_of_residuals = len(residuals)\n",
        "    similarity_score = (sum_of_residuals ** 2) / (number_of_residuals + lambda_)\n",
        "    return similarity_score\n",
        "\n",
        "def split_and_calculate(X, residuals, threshold):\n",
        "    left_indices = X < threshold\n",
        "    right_indices = X >= threshold\n",
        "\n",
        "    residuals_left = residuals[left_indices]\n",
        "    residuals_right = residuals[right_indices]\n",
        "\n",
        "    similarity_left = calculate_similarity_score(residuals_left, lambda_)\n",
        "    similarity_right = calculate_similarity_score(residuals_right, lambda_)\n",
        "\n",
        "    return similarity_left, similarity_right\n",
        "\n",
        "root_similarity_score = calculate_similarity_score(residuals, lambda_)\n",
        "print(f\"Similarity Score của root: {root_similarity_score}\")\n",
        "\n",
        "similarity_left_23_5, similarity_right_23_5 = split_and_calculate(X, residuals, 23.5)\n",
        "gain_23_5 = similarity_left_23_5 + similarity_right_23_5 - root_similarity_score\n",
        "print(f\"Gain cho X < 23.5: {gain_23_5}\")\n",
        "\n",
        "similarity_left_25, similarity_right_25 = split_and_calculate(X, residuals, 25)\n",
        "gain_25 = similarity_left_25 + similarity_right_25 - root_similarity_score\n",
        "print(f\"Gain cho X < 25: {gain_25}\")\n",
        "\n",
        "similarity_left_26_5, similarity_right_26_5 = split_and_calculate(X, residuals, 26.5)\n",
        "gain_26_5 = similarity_left_26_5 + similarity_right_26_5 - root_similarity_score\n",
        "print(f\"Gain cho X < 26.5: {gain_26_5}\")\n",
        "\n",
        "max_gain = max(gain_23_5, gain_25, gain_26_5)\n",
        "print(f\"Gain lớn nhất: {max_gain}\")"
      ],
      "metadata": {
        "id": "hcLsV8TX1xrc"
      },
      "execution_count": null,
      "outputs": []
    },
    {
      "cell_type": "markdown",
      "source": [
        "(f) Step5 Sau khi chọn được model cho gain có giá trị lớn nhất ta tính giá Ouput cho từng node trong nhánh trái và phải theo công thức sau:\n",
        "• Output = SumofResiduals\n",
        "NumberofResiduals\n",
        "\n",
        "• SumofResiduals là tổng của các giá trị trong Y - f0\n",
        "• NumberofResiduals là số lượng sample"
      ],
      "metadata": {
        "id": "VyfQKV-E18Q9"
      }
    },
    {
      "cell_type": "code",
      "source": [
        "def calculate_output(residuals):\n",
        "    sum_of_residuals = np.sum(residuals)\n",
        "    number_of_residuals = len(residuals)\n",
        "    output = sum_of_residuals / number_of_residuals\n",
        "    return output\n",
        "\n",
        "threshold = 25\n",
        "left_indices = X < threshold\n",
        "right_indices = X >= threshold\n",
        "\n",
        "residuals_left = residuals[left_indices]\n",
        "residuals_right = residuals[right_indices]\n",
        "\n",
        "output_left = calculate_output(residuals_left)\n",
        "output_right = calculate_output(residuals_right)\n",
        "\n",
        "print(f\"Output cho nhánh trái: {output_left}\")\n",
        "print(f\"Output cho nhánh phải: {output_right}\")"
      ],
      "metadata": {
        "id": "NAyjntY22CbC"
      },
      "execution_count": null,
      "outputs": []
    },
    {
      "cell_type": "markdown",
      "source": [
        "(g) Step6: Bây giờ ta sẽ thực hiện dự đoán kết quả khi x = 25 theo công thức bên dưới\n",
        "• Cần chọn nhánh phù hợp theo giá trị của X.\n",
        "• Khi chọn được nhánh phù hơp ta lấy giá trị Ouput của nhánh và thực hiện dự đoán theo\n",
        "công thức f0 + lr ∗ Output"
      ],
      "metadata": {
        "id": "aoDvnlfL2TJ9"
      }
    },
    {
      "cell_type": "code",
      "source": [
        "f0 = np.mean(Y)\n",
        "\n",
        "lr = 0.3\n",
        "\n",
        "threshold = 25\n",
        "\n",
        "if 25 < threshold:\n",
        "    output = output_left\n",
        "else:\n",
        "    output = output_right\n",
        "\n",
        "prediction = f0 + lr * output\n",
        "print(f\"Dự đoán cho x = 25: {prediction}\")"
      ],
      "metadata": {
        "id": "yi9nA0xV2Txn"
      },
      "execution_count": null,
      "outputs": []
    },
    {
      "cell_type": "markdown",
      "source": [
        "2. (a) Build tree với điều kiện sau λ = 0, depth = 1, lr = 0.3. Ta sẽ biến đổi giá trị của các sample\n",
        "trong Y thành xác suất, tương ứng False là 0 và True là 1"
      ],
      "metadata": {
        "id": "sPvyWCaX36vn"
      }
    },
    {
      "cell_type": "code",
      "source": [
        "import numpy as np\n",
        "\n",
        "X = np.array([23, 24, 26, 27])\n",
        "Y = np.array([0, 0, 1, 1])  # False = 0, True = 1\n",
        "\n",
        "f0 = 0\n",
        "y_pred_initial = 1 / (1 + np.exp(-f0))\n",
        "\n",
        "gradients = y_pred_initial - Y\n",
        "hessians = y_pred_initial * (1 - y_pred_initial)\n",
        "\n",
        "def calculate_output(gradients, hessians, lambda_):\n",
        "    return -np.sum(gradients) / (np.sum(hessians) + lambda_)\n",
        "\n",
        "lambda_ = 0\n",
        "threshold = 25\n",
        "\n",
        "left_indices = X < threshold\n",
        "right_indices = X >= threshold\n",
        "\n",
        "gradients_left = gradients[left_indices]\n",
        "hessians_left = hessians[left_indices]\n",
        "output_left = calculate_output(gradients_left, hessians_left, lambda_)\n",
        "\n",
        "gradients_right = gradients[right_indices]\n",
        "hessians_right = hessians[right_indices]\n",
        "output_right = calculate_output(gradients_right, hessians_right, lambda_)\n",
        "\n",
        "print(f\"Output nhánh trái: {output_left}\")\n",
        "print(f\"Output nhánh phải: {output_right}\")"
      ],
      "metadata": {
        "id": "mWEng3l-4Rdr"
      },
      "execution_count": null,
      "outputs": []
    },
    {
      "cell_type": "markdown",
      "source": [
        "(b) Step1: Khởi tạo giá trị f0 dự đoán của model là một hằng số 0.5 (xác suất của dự đoán)"
      ],
      "metadata": {
        "id": "L8bDsuUv4bLv"
      }
    },
    {
      "cell_type": "code",
      "source": [
        "import numpy as np\n",
        "\n",
        "f0 = 0.5\n",
        "y_pred_initial = 1 / (1 + np.exp(-f0))\n",
        "\n",
        "print(f\"Xác suất dự đoán ban đầu: {y_pred_initial}\")"
      ],
      "metadata": {
        "id": "DwwC65eb4j9M"
      },
      "execution_count": null,
      "outputs": []
    },
    {
      "cell_type": "markdown",
      "source": [
        "(c) Step2: Tính toán Similarity Score của root"
      ],
      "metadata": {
        "id": "L_FlHH_D4nby"
      }
    },
    {
      "cell_type": "code",
      "source": [
        "import numpy as np\n",
        "\n",
        "Y = np.array([0, 0, 1, 1])\n",
        "f0 = 0.5\n",
        "previous_probability = 0.5\n",
        "\n",
        "residuals = Y - f0\n",
        "sum_of_residuals = np.sum(residuals)\n",
        "hessians = previous_probability * (1 - previous_probability)\n",
        "sum_of_hessians = hessians * len(Y)\n",
        "lambda_ = 0\n",
        "\n",
        "similarity_score_root = (sum_of_residuals ** 2) / (sum_of_hessians + lambda_)\n",
        "\n",
        "print(f\"Similarity Score của root: {similarity_score_root}\")"
      ],
      "metadata": {
        "id": "y2EEchWT4zhG"
      },
      "execution_count": null,
      "outputs": []
    },
    {
      "cell_type": "markdown",
      "source": [
        "(d) Step3: Chọn root theo từng yêu cầu sau và tính Similarity Score cho các node trong nhánh\n",
        "trái và nhánh phải"
      ],
      "metadata": {
        "id": "HTnV-uBu5MkI"
      }
    },
    {
      "cell_type": "code",
      "source": [
        "def calculate_similarity_score(residuals, hessians, lambda_):\n",
        "    sum_of_residuals = np.sum(residuals)\n",
        "    sum_of_hessians = hessians * len(residuals)\n",
        "    similarity_score = (sum_of_residuals ** 2) / (sum_of_hessians + lambda_)\n",
        "    return similarity_score\n",
        "\n",
        "def split_and_calculate(X, residuals, threshold):\n",
        "    left_indices = X < threshold\n",
        "    right_indices = X >= threshold\n",
        "\n",
        "    residuals_left = residuals[left_indices]\n",
        "    residuals_right = residuals[right_indices]\n",
        "\n",
        "    similarity_left = calculate_similarity_score(residuals_left, hessians, lambda_)\n",
        "    similarity_right = calculate_similarity_score(residuals_right, hessians, lambda_)\n",
        "\n",
        "    return similarity_left, similarity_right\n",
        "\n",
        "similarity_left_23_5, similarity_right_23_5 = split_and_calculate(X, residuals, 23.5)\n",
        "print(f\"X < 23.5: Similarity Score nhánh trái = {similarity_left_23_5}, nhánh phải = {similarity_right_23_5}\")\n",
        "\n",
        "similarity_left_25, similarity_right_25 = split_and_calculate(X, residuals, 25)\n",
        "print(f\"X < 25: Similarity Score nhánh trái = {similarity_left_25}, nhánh phải = {similarity_right_25}\")\n",
        "\n",
        "similarity_left_26_5, similarity_right_26_5 = split_and_calculate(X, residuals, 26.5)\n",
        "print(f\"X < 26.5: Similarity Score nhánh trái = {similarity_left_26_5}, nhánh phải = {similarity_right_26_5}\")"
      ],
      "metadata": {
        "id": "dTt_tiK65NCy"
      },
      "execution_count": null,
      "outputs": []
    },
    {
      "cell_type": "markdown",
      "source": [
        "(e) Step4: Tính Gain cho từng case i, ii, iii ở trên và chọn ra Gain có giá trị lớn nhất"
      ],
      "metadata": {
        "id": "k4tFzVSS5UMY"
      }
    },
    {
      "cell_type": "code",
      "source": [
        "root_similarity_score = calculate_similarity_score(residuals, hessians, lambda_)\n",
        "print(f\"Similarity Score của root: {root_similarity_score}\")\n",
        "\n",
        "similarity_left_23_5, similarity_right_23_5 = split_and_calculate(X, residuals, 23.5)\n",
        "gain_23_5 = similarity_left_23_5 + similarity_right_23_5 - root_similarity_score\n",
        "print(f\"Gain cho X < 23.5: {gain_23_5}\")\n",
        "\n",
        "similarity_left_25, similarity_right_25 = split_and_calculate(X, residuals, 25)\n",
        "gain_25 = similarity_left_25 + similarity_right_25 - root_similarity_score\n",
        "print(f\"Gain cho X < 25: {gain_25}\")\n",
        "\n",
        "similarity_left_26_5, similarity_right_26_5 = split_and_calculate(X, residuals, 26.5)\n",
        "gain_26_5 = similarity_left_26_5 + similarity_right_26_5 - root_similarity_score\n",
        "print(f\"Gain cho X < 26.5: {gain_26_5}\")\n",
        "\n",
        "max_gain = max(gain_23_5, gain_25, gain_26_5)\n",
        "print(f\"Gain lớn nhất: {max_gain}\")"
      ],
      "metadata": {
        "id": "DumkPi_k5YHy"
      },
      "execution_count": null,
      "outputs": []
    },
    {
      "cell_type": "markdown",
      "source": [
        "(f)"
      ],
      "metadata": {
        "id": "sNK235WJ51km"
      }
    },
    {
      "cell_type": "code",
      "source": [
        "def calculate_output(residuals, previous_probability):\n",
        "    sum_of_residuals = np.sum(residuals)\n",
        "    output = sum_of_residuals / (previous_probability * (1 - previous_probability))\n",
        "    return output\n",
        "\n",
        "threshold = 25\n",
        "left_indices = X < threshold\n",
        "right_indices = X >= threshold\n",
        "\n",
        "residuals_left = residuals[left_indices]\n",
        "residuals_right = residuals[right_indices]\n",
        "\n",
        "output_left = calculate_output(residuals_left, previous_probability)\n",
        "print(f\"Output nhánh trái: {output_left}\")\n",
        "\n",
        "output_right = calculate_output(residuals_right, previous_probability)\n",
        "print(f\"Output nhánh phải: {output_right}\")"
      ],
      "metadata": {
        "id": "BBh3TalL52xQ"
      },
      "execution_count": null,
      "outputs": []
    },
    {
      "cell_type": "markdown",
      "source": [
        "(g)"
      ],
      "metadata": {
        "id": "fypdqOhd6B3m"
      }
    },
    {
      "cell_type": "code",
      "source": [
        "import numpy as np\n",
        "\n",
        "previous_probability = 0.5\n",
        "lr = 0.3\n",
        "def log(x):\n",
        "    return np.log(x)\n",
        "\n",
        "def predict_x_25(output, previous_probability, lr):\n",
        "    log_prediction = log(previous_probability / (1 - previous_probability)) + lr * output\n",
        "\n",
        "    probability = np.exp(log_prediction) / (1 + np.exp(log_prediction))\n",
        "\n",
        "    return log_prediction, probability\n",
        "\n",
        "output_right = 2.0\n",
        "log_prediction, probability = predict_x_25(output_right, previous_probability, lr)\n",
        "\n",
        "print(f\"LogPrediction cho x = 25: {log_prediction}\")\n",
        "print(f\"Xác suất dự đoán cho x = 25: {probability}\")"
      ],
      "metadata": {
        "id": "-uIDTdxI6DDy"
      },
      "execution_count": null,
      "outputs": []
    },
    {
      "cell_type": "markdown",
      "source": [
        "3. (a)"
      ],
      "metadata": {
        "id": "f8pVQuSd6SYV"
      }
    },
    {
      "cell_type": "code",
      "source": [
        "1 import numpy as np\n",
        "2 import pandas as pd\n",
        "3 import matplotlib . pyplot as plt\n",
        "4 import xgboost as xgb\n",
        "5 from sklearn . metrics import mean_squared_error , mean_absolute_error\n",
        "6 from sklearn . preprocessing import OrdinalEncoder\n",
        "7 from sklearn . model_selection import train_test_split"
      ],
      "metadata": {
        "id": "_h_vtIvq6UEY"
      },
      "execution_count": null,
      "outputs": []
    },
    {
      "cell_type": "markdown",
      "source": [
        "(b)"
      ],
      "metadata": {
        "id": "DKp3Vz3M6VXn"
      }
    },
    {
      "cell_type": "code",
      "source": [
        "1 dataset_path = ’/ content / Problem3 .csv ’\n",
        "2 data_df = pd . read_csv ( dataset_path )\n",
        "3 data_df"
      ],
      "metadata": {
        "id": "ln9Hb1pS6aXT"
      },
      "execution_count": null,
      "outputs": []
    },
    {
      "cell_type": "markdown",
      "source": [
        "(c)"
      ],
      "metadata": {
        "id": "5FYCflJl6a31"
      }
    },
    {
      "cell_type": "code",
      "source": [
        "categorical_cols = data_df . select_dtypes ( include =[ ’object ’, ’bool ’]) . columns .\n",
        "to_list ()\n",
        "\n",
        "for col_name in categorical_cols :\n",
        "n_categories = data_df [ col_name ]. nunique ()\n",
        "print ( f’Number of categories in { col_name }: { n_categories }’)\n",
        "\n",
        "ordinal_encoder = OrdinalEncoder ()\n",
        "encoded_categorical_cols = ordinal_encoder . fit_transform ( data_df [\n",
        "categorical_cols ])\n",
        "\n",
        "encoded_categorical_df = pd . DataFrame (\n",
        "encoded_categorical_cols ,\n",
        "columns = categorical_cols\n",
        "\n",
        "numerical_df = data_df . drop ( categorical_cols , axis =1)\n",
        "encoded_df = pd . concat ([ numerical_df , encoded_categorical_df ] , axis =1)"
      ],
      "metadata": {
        "id": "cNh-PjlL6bjO"
      },
      "execution_count": null,
      "outputs": []
    },
    {
      "cell_type": "markdown",
      "source": [
        "(d)"
      ],
      "metadata": {
        "id": "yvIChe196fXh"
      }
    },
    {
      "cell_type": "code",
      "source": [
        " X = encoded_df . drop ( columns =[ ’area ’])\n",
        " y = encoded_df [’area ’]"
      ],
      "metadata": {
        "id": "-0cx0DUr6iOO"
      },
      "execution_count": null,
      "outputs": []
    },
    {
      "cell_type": "markdown",
      "source": [
        "(e)"
      ],
      "metadata": {
        "id": "v5qY3J_W6wJg"
      }
    },
    {
      "cell_type": "code",
      "source": [
        "X_train , X_test , y_train , y_test = train_test_split (X , y ,\n",
        "test_size =0.3 ,\n",
        "random_state =7\n",
        ")"
      ],
      "metadata": {
        "id": "QUNwgyk86xB4"
      },
      "execution_count": null,
      "outputs": []
    },
    {
      "cell_type": "markdown",
      "source": [
        "(f)"
      ],
      "metadata": {
        "id": "IlEYelwd61wJ"
      }
    },
    {
      "cell_type": "code",
      "source": [
        "xg_reg = xgb . XGBRegressor ( seed =7 ,\n",
        "learning_rate =0.01 ,\n",
        "n_estimators =102 ,\n",
        "max_depth =3\n",
        ")\n",
        "\n",
        "xg_reg . fit ( X_train , y_train )"
      ],
      "metadata": {
        "id": "HFxkBPEO62kz"
      },
      "execution_count": null,
      "outputs": []
    },
    {
      "cell_type": "markdown",
      "source": [
        "(g)"
      ],
      "metadata": {
        "id": "4sTkGKxo6-E8"
      }
    },
    {
      "cell_type": "code",
      "source": [
        "mae = mean_absolute_error ( y_test , preds )\n",
        "mse = mean_squared_error ( y_test , preds )\n",
        "\n",
        "print (’Evaluation results on test set:’)\n",
        "print ( f’Mean Absolute Error : { mae}’)\n",
        "print ( f’Mean Squared Error : { mse}’)"
      ],
      "metadata": {
        "id": "yeT5PYSz6-2K"
      },
      "execution_count": null,
      "outputs": []
    }
  ]
}