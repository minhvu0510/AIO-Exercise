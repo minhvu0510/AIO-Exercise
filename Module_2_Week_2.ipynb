{
  "nbformat": 4,
  "nbformat_minor": 0,
  "metadata": {
    "colab": {
      "provenance": [],
      "authorship_tag": "ABX9TyMP1me0J+OgjkYoYo0Cx+av",
      "include_colab_link": true
    },
    "kernelspec": {
      "name": "python3",
      "display_name": "Python 3"
    },
    "language_info": {
      "name": "python"
    }
  },
  "cells": [
    {
      "cell_type": "markdown",
      "metadata": {
        "id": "view-in-github",
        "colab_type": "text"
      },
      "source": [
        "<a href=\"https://colab.research.google.com/github/minhvu0510/AIO-Exercise/blob/feature%2Fexercise-activate-function/Module_2_Week_2.ipynb\" target=\"_parent\"><img src=\"https://colab.research.google.com/assets/colab-badge.svg\" alt=\"Open In Colab\"/></a>"
      ]
    },
    {
      "cell_type": "markdown",
      "source": [
        "1. Các phép toán trên vector và ma trận\n",
        "\n",
        "(a) Độ dài của vector:"
      ],
      "metadata": {
        "id": "p47ULpt0Mz73"
      }
    },
    {
      "cell_type": "code",
      "source": [
        "import numpy as np\n",
        "\n",
        "def compute_vector_length(vector):\n",
        "    # Compute the length of the vector using numpy\n",
        "    len_of_vector = np.sqrt(np.sum(np.square(vector)))\n",
        "    return len_of_vector"
      ],
      "metadata": {
        "id": "36K7oOy-MnGB"
      },
      "execution_count": null,
      "outputs": []
    },
    {
      "cell_type": "markdown",
      "source": [
        "(b) Phép tích vô hướng:"
      ],
      "metadata": {
        "id": "wGzxMpLfMqfe"
      }
    },
    {
      "cell_type": "code",
      "source": [
        "import numpy as np\n",
        "\n",
        "def compute_dot_product(vector1, vector2):\n",
        "    # Compute the dot product using numpy\n",
        "    result = np.dot(vector1, vector2)\n",
        "    return result"
      ],
      "metadata": {
        "id": "hHiGDVgZMx9b"
      },
      "execution_count": null,
      "outputs": []
    },
    {
      "cell_type": "markdown",
      "source": [
        "(c) Nhân vector với ma trận:"
      ],
      "metadata": {
        "id": "YVyqV-CONK0Y"
      }
    },
    {
      "cell_type": "code",
      "source": [
        "import numpy as np\n",
        "\n",
        "def matrix_multi_vector(matrix, vector):\n",
        "    # Compute the matrix-vector multiplication using the @ operator\n",
        "    result = matrix @ vector\n",
        "    return result"
      ],
      "metadata": {
        "id": "bxF1DWJENNZA"
      },
      "execution_count": null,
      "outputs": []
    },
    {
      "cell_type": "markdown",
      "source": [
        "(d) Nhân ma trận với ma trận:"
      ],
      "metadata": {
        "id": "XS5iclSCMiO-"
      }
    },
    {
      "cell_type": "code",
      "source": [
        "import numpy as np\n",
        "\n",
        "def matrix_multi_matrix(matrix1, matrix2):\n",
        "    # Compute the matrix-matrix multiplication using the @ operator\n",
        "    result = matrix1 @ matrix2\n",
        "    return result"
      ],
      "metadata": {
        "id": "zIwQ9ODRNid6"
      },
      "execution_count": null,
      "outputs": []
    },
    {
      "cell_type": "markdown",
      "source": [
        "(e) Ma trận nghịch đảo:"
      ],
      "metadata": {
        "id": "mX78Dtt8Nv08"
      }
    },
    {
      "cell_type": "code",
      "source": [
        "import numpy as np\n",
        "\n",
        "def inverse_matrix(matrix):\n",
        "    # Compute the determinant\n",
        "    det = matrix[0, 0] * matrix[1, 1] - matrix[0, 1] * matrix[1, 0]\n",
        "\n",
        "    if det == 0:\n",
        "        raise ValueError(\"The matrix is not invertible\")\n",
        "\n",
        "    # Compute the inverse using the formula\n",
        "    inv_matrix = (1 / det) * np.array([[matrix[1, 1], -matrix[0, 1]],\n",
        "                                       [-matrix[1, 0], matrix[0, 0]]])\n",
        "\n",
        "    return inv_matrix\n",
        "\n",
        "# Given matrix A\n",
        "A = np.array([[-2, 6], [8, -4]])\n",
        "result = inverse_matrix(A)\n",
        "print(result)"
      ],
      "metadata": {
        "id": "St-VzlEVN0vQ"
      },
      "execution_count": null,
      "outputs": []
    },
    {
      "cell_type": "markdown",
      "source": [
        "2. Eigenvector và eigenvalues:"
      ],
      "metadata": {
        "id": "makETxEMOF7J"
      }
    },
    {
      "cell_type": "code",
      "source": [
        "import numpy as np\n",
        "\n",
        "def compute_eigenvalues_eigenvectors(matrix):\n",
        "    # Compute the eigenvalues and eigenvectors\n",
        "    eigenvalues, eigenvectors = np.linalg.eig(matrix)\n",
        "\n",
        "    # Normalize the eigenvectors\n",
        "    normalized_eigenvectors = eigenvectors / np.linalg.norm(eigenvectors, axis=0)\n",
        "\n",
        "    return eigenvalues, normalized_eigenvectors\n",
        "\n",
        "# Given matrix A\n",
        "A = np.array([[0.9, 0.2], [0.1, 0.8]])\n",
        "eigenvalues, eigenvectors = compute_eigenvalues_eigenvectors(A)\n",
        "print(\"Eigenvalues:\", eigenvalues)\n",
        "print(\"Eigenvectors (normalized):\")\n",
        "print(eigenvectors)"
      ],
      "metadata": {
        "id": "FuZdNhDIOJq-"
      },
      "execution_count": null,
      "outputs": []
    },
    {
      "cell_type": "markdown",
      "source": [
        "3. Cosine Similarity:"
      ],
      "metadata": {
        "id": "QaEHJ-nYOUse"
      }
    },
    {
      "cell_type": "code",
      "source": [
        "import numpy as np\n",
        "\n",
        "def compute_cosine(v1, v2):\n",
        "    # Compute the dot product of v1 and v2\n",
        "    dot_product = np.dot(v1, v2)\n",
        "\n",
        "    # Compute the norm (magnitude) of v1 and v2\n",
        "    norm_v1 = np.linalg.norm(v1)\n",
        "    norm_v2 = np.linalg.norm(v2)\n",
        "\n",
        "    # Compute the cosine similarity\n",
        "    cos_sim = dot_product / (norm_v1 * norm_v2)\n",
        "\n",
        "    return cos_sim\n",
        "\n",
        "# Given vectors x and y\n",
        "x = np.array([1, 2, 3, 4])\n",
        "y = np.array([1, 0, 3, 0])\n",
        "\n",
        "# Compute cosine similarity\n",
        "result = compute_cosine(x, y)\n",
        "print(round(result, 3))  # Result is 0.577"
      ],
      "metadata": {
        "id": "72cxb9uMOWdJ"
      },
      "execution_count": null,
      "outputs": []
    },
    {
      "cell_type": "markdown",
      "source": [
        "4. Background subtraction (tách nền):"
      ],
      "metadata": {
        "id": "UMyLOm76PDLV"
      }
    },
    {
      "cell_type": "markdown",
      "source": [
        "(a) Resize các ảnh đầu vào về cùng kích thước:"
      ],
      "metadata": {
        "id": "ugDuLq5BPTjN"
      }
    },
    {
      "cell_type": "code",
      "source": [
        "import numpy as np\n",
        "from google.colab.patches import cv2_imshow\n",
        "import cv2\n",
        "\n",
        "# Read and resize the images\n",
        "bg1_image = cv2.imread('GreenBackground.png', 1)\n",
        "bg1_image = cv2.resize(bg1_image, (678, 381))\n",
        "\n",
        "ob_image = cv2.imread('Object.png', 1)\n",
        "ob_image = cv2.resize(ob_image, (678, 381))\n",
        "\n",
        "bg2_image = cv2.imread('NewBackground.jpg', 1)\n",
        "bg2_image = cv2.resize(bg2_image, (678, 381))"
      ],
      "metadata": {
        "id": "8StpLQ3jPUXH"
      },
      "execution_count": null,
      "outputs": []
    },
    {
      "cell_type": "markdown",
      "source": [
        "(b) Xây dựng hàm compute_difference():"
      ],
      "metadata": {
        "id": "9oWohSVzPYjt"
      }
    },
    {
      "cell_type": "code",
      "source": [
        "def compute_difference(bg_img, input_img):\n",
        "    # Convert images to grayscale\n",
        "    bg_gray = cv2.cvtColor(bg_img, cv2.COLOR_BGR2GRAY)\n",
        "    input_gray = cv2.cvtColor(input_img, cv2.COLOR_BGR2GRAY)\n",
        "\n",
        "    # Compute the absolute difference between the two images\n",
        "    difference_single_channel = cv2.absdiff(bg_gray, input_gray)\n",
        "\n",
        "    return difference_single_channel\n",
        "\n",
        "# Compute the difference\n",
        "difference_single_channel = compute_difference(bg1_image, ob_image)\n",
        "cv2_imshow(difference_single_channel)"
      ],
      "metadata": {
        "id": "GokyQ0DXPaAk"
      },
      "execution_count": null,
      "outputs": []
    },
    {
      "cell_type": "markdown",
      "source": [
        "(c) Xây dựng hàm compute_binary_mask():"
      ],
      "metadata": {
        "id": "LpWXqJbnPenr"
      }
    },
    {
      "cell_type": "code",
      "source": [
        "def compute_binary_mask(difference_single_channel):\n",
        "    # Threshold the difference image to create a binary mask\n",
        "    _, difference_binary = cv2.threshold(difference_single_channel, 50, 255, cv2.THRESH_BINARY)\n",
        "\n",
        "    return difference_binary\n",
        "\n",
        "# Compute the binary mask\n",
        "binary_mask = compute_binary_mask(difference_single_channel)\n",
        "cv2_imshow(binary_mask)"
      ],
      "metadata": {
        "id": "_EPxZUZlPgcN"
      },
      "execution_count": null,
      "outputs": []
    },
    {
      "cell_type": "markdown",
      "source": [
        "(d) Xây dựng hàm replace_background():"
      ],
      "metadata": {
        "id": "8lWRFuQWPjnB"
      }
    },
    {
      "cell_type": "code",
      "source": [
        "def replace_background(bg1_image, bg2_image, ob_image):\n",
        "    # Compute the difference and binary mask\n",
        "    difference_single_channel = compute_difference(bg1_image, ob_image)\n",
        "    binary_mask = compute_binary_mask(difference_single_channel)\n",
        "\n",
        "    # Expand binary mask to 3 channels\n",
        "    binary_mask_3c = cv2.cvtColor(binary_mask, cv2.COLOR_GRAY2BGR)\n",
        "\n",
        "    # Create the output image by replacing the background\n",
        "    output = np.where(binary_mask_3c == 255, ob_image, bg2_image)\n",
        "\n",
        "    return output\n",
        "\n",
        "# Replace the background and show the result\n",
        "output_image = replace_background(bg1_image, bg2_image, ob_image)\n",
        "cv2_imshow(output_image)"
      ],
      "metadata": {
        "id": "yInz3NcZPk0K"
      },
      "execution_count": null,
      "outputs": []
    }
  ]
}